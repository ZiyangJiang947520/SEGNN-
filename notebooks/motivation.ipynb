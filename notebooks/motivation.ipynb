{
 "cells": [
  {
   "cell_type": "markdown",
   "metadata": {},
   "source": [
    "## First, install the package\n",
    "\n",
    "Run ```pip install -e .``` at the proj root directory\n",
    "\n",
    "## Pretrain the model on serveral datasets under inductive setting. \n",
    "```\n",
    "bash scripts/run_small_dataset.sh $GPU_NUMBER\n",
    "```\n",
    "\n",
    "GPU_NUMBER is the index of GPU to use. For example, ```bash scripts/run_small_dataset.sh 3``` means using GPU 3 to train the models.\n",
    "\n",
    "\n",
    "## Perform the edit on pretrained model.\n",
    "\n",
    "```\n",
    "bash scripts/eval.sh $GPU_NUMBER\n",
    "```"
   ]
  },
  {
   "cell_type": "markdown",
   "metadata": {},
   "source": [
    "## Load saved results for visualization"
   ]
  },
  {
   "cell_type": "code",
   "execution_count": 6,
   "metadata": {},
   "outputs": [],
   "source": [
    "%matplotlib inline\n",
    "import matplotlib.pyplot as plt\n",
    "import json\n",
    "import numpy as np\n",
    "import os\n",
    "\n",
    "font_config = {'font.size': 14, 'font.family': 'Times New Roman'}\n",
    "plt.rcParams.update(font_config)\n",
    "plt.rcParams[\"figure.figsize\"] = (6.4, 3.2)\n",
    "\n",
    "datasets = ['cora', 'flickr', 'reddit2', 'arxiv']\n",
    "models = ['GCN', 'SAGE', 'MLP', 'GCN_MLP', 'SAGE_MLP']\n",
    "criterion = 'wrong2correct'\n",
    "ROOT = '/home/grads/z/zhimengj/Code/edit_gnn/finetune'\n",
    "\n",
    "summary = {}\n",
    "for dataset in datasets:\n",
    "    summary[dataset] = {}\n",
    "    for model in models:\n",
    "        file_name = f'{ROOT}/{dataset}/GD/{model}_{criterion}_eval.json'\n",
    "        with open(file_name, 'r') as f:\n",
    "            summary[dataset][model] = json.load(f)\n",
    "# print(summary)"
   ]
  },
  {
   "cell_type": "code",
   "execution_count": 20,
   "metadata": {},
   "outputs": [
    {
     "data": {
      "text/plain": [
       "<Figure size 460.8x230.4 with 0 Axes>"
      ]
     },
     "metadata": {},
     "output_type": "display_data"
    }
   ],
   "source": [
    "fig = plt.figure()\n",
    "num_datasets = len(datasets)\n",
    "\n",
    "edit_way = 'ind_edit'\n",
    "metric = 'val_drawdown' ### val_drawdown, test_drawdown\n",
    "\n",
    "gathered_data = []\n",
    "for idx, model in enumerate(models):    \n",
    "    data = [summary[dataset][model][edit_way][metric] for dataset in datasets]\n",
    "    gathered_data.append(data)\n"
   ]
  },
  {
   "cell_type": "code",
   "execution_count": 8,
   "metadata": {},
   "outputs": [
    {
     "data": {
      "text/plain": [
       "[[4.423999999999994,\n",
       "  36.616349946217284,\n",
       "  20.471581079370438,\n",
       "  47.78120071143327],\n",
       " [4.852000000000023, 19.08470778056651, 40.496054685851725, 47.64005503540387],\n",
       " [3.752000000000011, 9.267389745428472, 3.1494999789020484, 7.013658176448878],\n",
       " [1.860000000000006,\n",
       "  31.915650770885616,\n",
       "  0.46947128570824503,\n",
       "  4.855397832142017],\n",
       " [1.6680000000000028,\n",
       "  33.77653280745786,\n",
       "  0.5558884341111514,\n",
       "  5.1591664149803655]]"
      ]
     },
     "execution_count": 8,
     "metadata": {},
     "output_type": "execute_result"
    }
   ],
   "source": [
    "gathered_data"
   ]
  },
  {
   "cell_type": "code",
   "execution_count": 21,
   "metadata": {},
   "outputs": [
    {
     "data": {
      "text/plain": [
       "<matplotlib.legend.Legend at 0x7f8a6551e110>"
      ]
     },
     "execution_count": 21,
     "metadata": {},
     "output_type": "execute_result"
    },
    {
     "data": {
      "image/png": "[encoded data removed]",
      "text/plain": [
       "<Figure size 460.8x230.4 with 1 Axes>"
      ]
     },
     "metadata": {
      "needs_background": "light"
     },
     "output_type": "display_data"
    }
   ],
   "source": [
    "fig = plt.figure()\n",
    "ax = fig.add_axes([0,0,1,1])\n",
    "step_size = 1. / (len(models)+1) \n",
    "X = np.arange(num_datasets)\n",
    "\n",
    "title_mapping = {'ind_edit': '50 independent edit', 'seq_edit': '50 sequential edit', 'batch_edit': 'batch edit with batch size 50'}\n",
    "for i in range(len(models)):\n",
    "    ax.bar(X + step_size * i, gathered_data[i], width = step_size)\n",
    "\n",
    "ax.set_xticks(X + np.floor((len(models)-1)/2)* step_size)\n",
    "ax.set_xticklabels(datasets)\n",
    "ax.set_yticks(np.arange(0., 50., 5.))\n",
    "ax.set_ylabel(f'{metric} (%)')\n",
    "ax.set_xlabel(f'{title_mapping[edit_way]}')\n",
    "ax.grid()\n",
    "ax.legend(models)\n"
   ]
  },
  {
   "cell_type": "code",
   "execution_count": 12,
   "metadata": {},
   "outputs": [
    {
     "data": {
      "text/plain": [
       "5"
      ]
     },
     "execution_count": 12,
     "metadata": {},
     "output_type": "execute_result"
    }
   ],
   "source": [
    "len(gathered_data)"
   ]
  }
 ],
 "metadata": {
  "kernelspec": {
   "display_name": "Python 3.7.11 ('jupyter_cpu')",
   "language": "python",
   "name": "python3"
  },
  "language_info": {
   "codemirror_mode": {
    "name": "ipython",
    "version": 3
   },
   "file_extension": ".py",
   "mimetype": "text/x-python",
   "name": "python",
   "nbconvert_exporter": "python",
   "pygments_lexer": "ipython3",
   "version": "3.7.11"
  },
  "orig_nbformat": 4,
  "vscode": {
   "interpreter": {
    "hash": "984c779e217cd6f2cfb7611f1740dcf3a49a5d74b7dc4b183e4551844276ef86"
   }
  }
 },
 "nbformat": 4,
 "nbformat_minor": 2
}
