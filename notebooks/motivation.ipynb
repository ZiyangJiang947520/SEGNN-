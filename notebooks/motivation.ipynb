{
 "cells": [
  {
   "attachments": {},
   "cell_type": "markdown",
   "metadata": {},
   "source": [
    "## First, install the package\n",
    "\n",
    "Run ```pip install -e .``` at the proj root directory\n",
    "\n",
    "## Pretrain the model on serveral datasets under inductive setting. \n",
    "```\n",
    "bash scripts/run_small_dataset.sh $GPU_NUMBER\n",
    "```\n",
    "\n",
    "GPU_NUMBER is the index of GPU to use. For example, ```bash scripts/run_small_dataset.sh 3``` means using GPU 3 to train the models.\n",
    "\n",
    "\n",
    "## Perform the edit on pretrained model.\n",
    "\n",
    "```\n",
    "bash scripts/eval.sh $GPU_NUMBER\n",
    "```"
   ]
  },
  {
   "attachments": {},
   "cell_type": "markdown",
   "metadata": {},
   "source": [
    "## Load saved results for visualization"
   ]
  },
  {
   "cell_type": "code",
   "execution_count": 7,
   "metadata": {},
   "outputs": [],
   "source": [
    "%matplotlib inline\n",
    "import matplotlib.pyplot as plt\n",
    "import json\n",
    "import numpy as np\n",
    "import os\n",
    "\n",
    "font_config = {'font.size': 14, 'font.family': 'Times New Roman'}\n",
    "plt.rcParams.update(font_config)\n",
    "plt.rcParams[\"figure.figsize\"] = (6.4, 3.2)\n",
    "\n",
    "datasets = ['cora', 'flickr', 'amazoncomputers', \n",
    "            'amazonphoto', 'coauthorcs']\n",
    "\n",
    "# datasets = ['cora', 'flickr', 'reddit2', 'arxiv']\n",
    "# models = ['GCN', 'SAGE']\n",
    "models = ['SIGN', 'SGC', 'SIGN_MLP', 'SGC_MLP']\n",
    "criterion = 'wrong2correct'\n",
    "# ROOT = '/home/zl105/edit_gnn/finetune_new/enn_ft'\n",
    "ROOT = '/home/zl105/edit_gnn/rebuttal/finetune_new_std'\n",
    "\n",
    "summary = {}\n",
    "for dataset in datasets:\n",
    "    summary[dataset] = {}\n",
    "    for model in models:\n",
    "        file_name = f'{ROOT}/{dataset}/GD/{model}_{criterion}_eval.json'\n",
    "        with open(file_name, 'r') as f:\n",
    "            summary[dataset][model] = json.load(f)\n",
    "# print(summary)"
   ]
  },
  {
   "cell_type": "code",
   "execution_count": 8,
   "metadata": {},
   "outputs": [
    {
     "name": "stdout",
     "output_type": "stream",
     "text": [
      "SIGN cora bef_edit_tst_acc 87.2\n",
      "SIGN cora success_rate: 1.00\n",
      "SIGN cora 3.8\n",
      "SIGN flickr bef_edit_tst_acc 51.418455608837895\n",
      "SIGN flickr success_rate: 1.00\n",
      "SIGN flickr 9.6\n",
      "SIGN amazoncomputers bef_edit_tst_acc 85.59670781893004\n",
      "SIGN amazoncomputers success_rate: 1.00\n",
      "SIGN amazoncomputers 15.0\n",
      "SIGN amazonphoto bef_edit_tst_acc 93.6435124508519\n",
      "SIGN amazonphoto success_rate: 1.00\n",
      "SIGN amazonphoto 16.7\n",
      "SIGN coauthorcs bef_edit_tst_acc 95.39903137502633\n",
      "SIGN coauthorcs success_rate: 1.00\n",
      "SIGN coauthorcs 1.3\n",
      "SGC cora bef_edit_tst_acc 87.6\n",
      "SGC cora success_rate: 1.00\n",
      "SGC cora 4.5\n",
      "SGC flickr bef_edit_tst_acc 46.744050553489\n",
      "SGC flickr success_rate: 1.00\n",
      "SGC flickr 13.0\n",
      "SGC amazoncomputers bef_edit_tst_acc 87.14303529118344\n",
      "SGC amazoncomputers success_rate: 1.00\n",
      "SGC amazoncomputers 24.3\n",
      "SGC amazonphoto bef_edit_tst_acc 93.2175622542595\n",
      "SGC amazonphoto success_rate: 1.00\n",
      "SGC amazonphoto 15.5\n",
      "SGC coauthorcs bef_edit_tst_acc 94.8831332912192\n",
      "SGC coauthorcs success_rate: 1.00\n",
      "SGC coauthorcs 2.5\n",
      "SIGN_MLP cora bef_edit_tst_acc 87.6\n",
      "SIGN_MLP cora success_rate: 1.00\n",
      "SIGN_MLP cora 3.2\n",
      "SIGN_MLP flickr bef_edit_tst_acc 51.75906422265047\n",
      "SIGN_MLP flickr success_rate: 1.00\n",
      "SIGN_MLP flickr 3.5\n",
      "SIGN_MLP amazoncomputers bef_edit_tst_acc 83.83838383838383\n",
      "SIGN_MLP amazoncomputers success_rate: 1.00\n",
      "SIGN_MLP amazoncomputers 1.6\n",
      "SIGN_MLP amazonphoto bef_edit_tst_acc 93.6435124508519\n",
      "SIGN_MLP amazonphoto success_rate: 1.00\n",
      "SIGN_MLP amazonphoto 1.2\n",
      "SIGN_MLP coauthorcs bef_edit_tst_acc 95.35691724573594\n",
      "SIGN_MLP coauthorcs success_rate: 1.00\n",
      "SIGN_MLP coauthorcs 0.0\n",
      "SGC_MLP cora bef_edit_tst_acc 87.6\n",
      "SGC_MLP cora success_rate: 1.00\n",
      "SGC_MLP cora 10.6\n",
      "SGC_MLP flickr bef_edit_tst_acc 46.744050553489\n",
      "SGC_MLP flickr success_rate: 1.00\n",
      "SGC_MLP flickr 11.8\n",
      "SGC_MLP amazoncomputers bef_edit_tst_acc 87.14303529118344\n",
      "SGC_MLP amazoncomputers success_rate: 1.00\n",
      "SGC_MLP amazoncomputers 9.7\n",
      "SGC_MLP amazonphoto bef_edit_tst_acc 93.2175622542595\n",
      "SGC_MLP amazonphoto success_rate: 1.00\n",
      "SGC_MLP amazonphoto 7.3\n",
      "SGC_MLP coauthorcs bef_edit_tst_acc 94.8831332912192\n",
      "SGC_MLP coauthorcs success_rate: 1.00\n",
      "SGC_MLP coauthorcs 2.8\n"
     ]
    },
    {
     "data": {
      "text/plain": [
       "<Figure size 640x320 with 0 Axes>"
      ]
     },
     "metadata": {},
     "output_type": "display_data"
    }
   ],
   "source": [
    "fig = plt.figure()\n",
    "num_datasets = len(datasets)\n",
    "\n",
    "edit_way = 'ind_edit' # seq_edit, ind_edit, batch_edit\n",
    "metric = 'success_rate' ### val_drawdown, test_drawdown\n",
    "\n",
    "gathered_data = []\n",
    "for idx, model in enumerate(models):    \n",
    "    data = [summary[dataset][model][edit_way][metric] for dataset in datasets]\n",
    "    gathered_data.append(data)\n",
    "\n",
    "for idx, model in enumerate(models):\n",
    "    for idx_j, dataset in enumerate(datasets):\n",
    "        print(model, dataset, 'bef_edit_tst_acc', summary[dataset][model][edit_way]['bef_edit_tst_acc'] * 100)\n",
    "        print(model, dataset, f'{metric}: %.2f' % (gathered_data[idx][idx_j]))\n",
    "        print(model, dataset, '%.1f' % (summary[dataset][model][edit_way]['test_std'] * 100))"
   ]
  },
  {
   "cell_type": "code",
   "execution_count": 9,
   "metadata": {},
   "outputs": [
    {
     "name": "stdout",
     "output_type": "stream",
     "text": [
      "SIGN cora bef_edit_tst_acc 87.20\n",
      "SIGN cora after edit tst acc: 82.40±3.79\n",
      "SIGN cora test_drawdown: 4.80\n",
      "SIGN flickr bef_edit_tst_acc 51.42\n",
      "SIGN flickr after edit tst acc: 36.44±9.60\n",
      "SIGN flickr test_drawdown: 14.98\n",
      "SIGN amazoncomputers bef_edit_tst_acc 85.60\n",
      "SIGN amazoncomputers after edit tst acc: 58.33±15.05\n",
      "SIGN amazoncomputers test_drawdown: 27.27\n",
      "SIGN amazonphoto bef_edit_tst_acc 93.64\n",
      "SIGN amazonphoto after edit tst acc: 66.11±16.71\n",
      "SIGN amazonphoto test_drawdown: 27.53\n",
      "SIGN coauthorcs bef_edit_tst_acc 95.40\n",
      "SIGN coauthorcs after edit tst acc: 93.98±1.26\n",
      "SIGN coauthorcs test_drawdown: 1.42\n",
      "SGC cora bef_edit_tst_acc 87.60\n",
      "SGC cora after edit tst acc: 83.87±4.50\n",
      "SGC cora test_drawdown: 3.73\n",
      "SGC flickr bef_edit_tst_acc 46.74\n",
      "SGC flickr after edit tst acc: 16.84±12.98\n",
      "SGC flickr test_drawdown: 29.91\n",
      "SGC amazoncomputers bef_edit_tst_acc 87.14\n",
      "SGC amazoncomputers after edit tst acc: 26.17±24.29\n",
      "SGC amazoncomputers test_drawdown: 60.97\n",
      "SGC amazonphoto bef_edit_tst_acc 93.22\n",
      "SGC amazonphoto after edit tst acc: 24.68±15.53\n",
      "SGC amazonphoto test_drawdown: 68.53\n",
      "SGC coauthorcs bef_edit_tst_acc 94.88\n",
      "SGC coauthorcs after edit tst acc: 91.75±2.47\n",
      "SGC coauthorcs test_drawdown: 3.13\n",
      "SIGN_MLP cora bef_edit_tst_acc 87.60\n",
      "SIGN_MLP cora after edit tst acc: 85.36±3.23\n",
      "SIGN_MLP cora test_drawdown: 2.24\n",
      "SIGN_MLP flickr bef_edit_tst_acc 51.76\n",
      "SIGN_MLP flickr after edit tst acc: 49.72±3.52\n",
      "SIGN_MLP flickr test_drawdown: 2.04\n",
      "SIGN_MLP amazoncomputers bef_edit_tst_acc 83.84\n",
      "SIGN_MLP amazoncomputers after edit tst acc: 83.61±1.61\n",
      "SIGN_MLP amazoncomputers test_drawdown: 0.22\n",
      "SIGN_MLP amazonphoto bef_edit_tst_acc 93.64\n",
      "SIGN_MLP amazonphoto after edit tst acc: 93.08±1.22\n",
      "SIGN_MLP amazonphoto test_drawdown: 0.57\n",
      "SIGN_MLP coauthorcs bef_edit_tst_acc 95.36\n",
      "SIGN_MLP coauthorcs after edit tst acc: 95.38±0.05\n",
      "SIGN_MLP coauthorcs test_drawdown: -0.03\n",
      "SGC_MLP cora bef_edit_tst_acc 87.60\n",
      "SGC_MLP cora after edit tst acc: 81.90±10.56\n",
      "SGC_MLP cora test_drawdown: 5.70\n",
      "SGC_MLP flickr bef_edit_tst_acc 46.74\n",
      "SGC_MLP flickr after edit tst acc: 35.20±11.79\n",
      "SGC_MLP flickr test_drawdown: 11.54\n",
      "SGC_MLP amazoncomputers bef_edit_tst_acc 87.14\n",
      "SGC_MLP amazoncomputers after edit tst acc: 84.46±9.68\n",
      "SGC_MLP amazoncomputers test_drawdown: 2.68\n",
      "SGC_MLP amazonphoto bef_edit_tst_acc 93.22\n",
      "SGC_MLP amazonphoto after edit tst acc: 90.87±7.28\n",
      "SGC_MLP amazonphoto test_drawdown: 2.34\n",
      "SGC_MLP coauthorcs bef_edit_tst_acc 94.88\n",
      "SGC_MLP coauthorcs after edit tst acc: 94.43±2.76\n",
      "SGC_MLP coauthorcs test_drawdown: 0.46\n"
     ]
    }
   ],
   "source": [
    "edit_way = 'ind_edit' # seq_edit, ind_edit, batch_edit\n",
    "metric = 'test_drawdown' ### val_drawdown, test_drawdown\n",
    "\n",
    "gathered_data = []\n",
    "for idx, model in enumerate(models):    \n",
    "    data = [summary[dataset][model][edit_way][metric] for dataset in datasets]\n",
    "    gathered_data.append(data)\n",
    "\n",
    "for idx, model in enumerate(models):\n",
    "    for idx_j, dataset in enumerate(datasets):\n",
    "        print(model, dataset, 'bef_edit_tst_acc %.2f' % (summary[dataset][model][edit_way]['bef_edit_tst_acc'] * 100))\n",
    "        print(model, dataset, 'after edit tst acc: %.2f' % (summary[dataset][model][edit_way]['bef_edit_tst_acc'] * 100 - gathered_data[idx][idx_j]) + '±%.2f' % (summary[dataset][model][edit_way]['test_std'] * 100))\n",
    "        print(model, dataset, f'{metric}: %.2f' % (gathered_data[idx][idx_j]))"
   ]
  },
  {
   "cell_type": "code",
   "execution_count": 12,
   "metadata": {},
   "outputs": [
    {
     "data": {
      "text/plain": [
       "<matplotlib.legend.Legend at 0x7ff7cf8e53d0>"
      ]
     },
     "execution_count": 12,
     "metadata": {},
     "output_type": "execute_result"
    },
    {
     "name": "stderr",
     "output_type": "stream",
     "text": [
      "findfont: Font family ['Times New Roman'] not found. Falling back to DejaVu Sans.\n"
     ]
    },
    {
     "data": {
      "image/png": "[encoded data removed]",
      "text/plain": [
       "<Figure size 640x320 with 1 Axes>"
      ]
     },
     "metadata": {},
     "output_type": "display_data"
    }
   ],
   "source": [
    "fig = plt.figure()\n",
    "ax = fig.add_axes([0,0,1,1])\n",
    "step_size = 1. / (len(models)+1) \n",
    "X = np.arange(num_datasets)\n",
    "\n",
    "title_mapping = {'ind_edit': '50 independent edit', 'seq_edit': '50 sequential edit', 'batch_edit': 'batch edit with batch size 50'}\n",
    "for i in range(len(models)):\n",
    "    ax.bar(X + step_size * i, gathered_data[i], width = step_size)\n",
    "\n",
    "ax.set_xticks(X + np.floor((len(models)-1)/2)* step_size)\n",
    "ax.set_xticklabels(datasets)\n",
    "ax.set_yticks(np.arange(0., 50., 5.))\n",
    "ax.set_ylabel(f'{metric} (%)')\n",
    "ax.set_xlabel(f'{title_mapping[edit_way]}')\n",
    "ax.grid()\n",
    "ax.legend(models)\n"
   ]
  },
  {
   "cell_type": "code",
   "execution_count": 4,
   "metadata": {},
   "outputs": [
    {
     "data": {
      "text/plain": [
       "5"
      ]
     },
     "execution_count": 4,
     "metadata": {},
     "output_type": "execute_result"
    }
   ],
   "source": [
    "len(gathered_data)"
   ]
  },
  {
   "cell_type": "code",
   "execution_count": null,
   "metadata": {},
   "outputs": [],
   "source": []
  }
 ],
 "metadata": {
  "kernelspec": {
   "display_name": "akg",
   "language": "python",
   "name": "python3"
  },
  "language_info": {
   "codemirror_mode": {
    "name": "ipython",
    "version": 3
   },
   "file_extension": ".py",
   "mimetype": "text/x-python",
   "name": "python",
   "nbconvert_exporter": "python",
   "pygments_lexer": "ipython3",
   "version": "3.8.15"
  },
  "orig_nbformat": 4,
  "vscode": {
   "interpreter": {
    "hash": "04a049374683dbbe1f8a678780b879351f0b855237bac901f4a1196ad68ff57f"
   }
  }
 },
 "nbformat": 4,
 "nbformat_minor": 2
}
